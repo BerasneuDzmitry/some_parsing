{
 "cells": [
  {
   "cell_type": "markdown",
   "metadata": {},
   "source": [
    "### Парсинг Habr на Python (Python 3 + BeautifulSoup4)"
   ]
  },
  {
   "cell_type": "code",
   "execution_count": 1,
   "metadata": {},
   "outputs": [
    {
     "name": "stdout",
     "output_type": "stream",
     "text": [
      "Все потоки\n"
     ]
    }
   ],
   "source": [
    "from bs4 import BeautifulSoup\n",
    "import requests\n",
    "\n",
    "def get_html(url):\n",
    "    result = requests.get(url)\n",
    "    return result.text\n",
    "\n",
    "def get_data(html):\n",
    "    soup = BeautifulSoup(html, 'lxml')\n",
    "    h1 = soup.find('h1', {'class' : 'page-header__info-title'})\n",
    "    a = soup.find('a', {'href': 'https://habr.com/ru/post/496722/'})\n",
    "    navbar = soup.find('ul', {'id': 'navbar-links'})\n",
    "    li = navbar.find('li').find('a').text\n",
    "    print(li)\n",
    "\n",
    "def main():\n",
    "    html = get_html('https://habr.com/ru/hub/python/')\n",
    "    get_data(html)\n",
    "\n",
    "if __name__ == '__main__':\n",
    "    main()"
   ]
  },
  {
   "cell_type": "code",
   "execution_count": 2,
   "metadata": {},
   "outputs": [
    {
     "name": "stdout",
     "output_type": "stream",
     "text": [
      "4 сентября 2018, 15:38\n"
     ]
    }
   ],
   "source": [
    "from bs4 import BeautifulSoup\n",
    "import requests\n",
    "\n",
    "def get_html(url):\n",
    "    result = requests.get(url)\n",
    "    return result.text\n",
    "\n",
    "def get_data(html):\n",
    "    soup = BeautifulSoup(html, 'lxml')\n",
    "    h1 = soup.find('b')\n",
    "    time = soup.find('time', {'class': 'aentry-head__date-time'})\n",
    "    print(time.text)\n",
    "\n",
    "def main():\n",
    "    html = get_html('https://katerinabil.livejournal.com/9973.html?media')\n",
    "    get_data(html)\n",
    "\n",
    "if __name__ == '__main__':\n",
    "    main()"
   ]
  },
  {
   "cell_type": "code",
   "execution_count": 3,
   "metadata": {},
   "outputs": [
    {
     "name": "stdout",
     "output_type": "stream",
     "text": [
      "<Response [200]>\n"
     ]
    }
   ],
   "source": [
    "# запрашиваем у сайта https://www.cbr-xml-daily.ru/daily_json.js инфу о курсах валют\n",
    "import requests\n",
    "r = requests.get('https://www.cbr-xml-daily.ru/daily_json.js')\n",
    "print(r)"
   ]
  },
  {
   "cell_type": "code",
   "execution_count": 4,
   "metadata": {},
   "outputs": [
    {
     "data": {
      "text/plain": [
       "'R01270'"
      ]
     },
     "execution_count": 4,
     "metadata": {},
     "output_type": "execute_result"
    }
   ],
   "source": [
    "# Так как работать с ответом сервера в виде строки неудобно, вызываем метод json(), который преобразует строку в словарь\n",
    "data = r.json()\n",
    "data['Valute']['INR']['ID']"
   ]
  },
  {
   "cell_type": "code",
   "execution_count": 5,
   "metadata": {},
   "outputs": [
    {
     "data": {
      "text/plain": [
       "{'ID': 'R01090B',\n",
       " 'NumCode': '933',\n",
       " 'CharCode': 'BYN',\n",
       " 'Nominal': 1,\n",
       " 'Name': 'Белорусский рубль',\n",
       " 'Value': 29.1248,\n",
       " 'Previous': 28.9504}"
      ]
     },
     "execution_count": 5,
     "metadata": {},
     "output_type": "execute_result"
    }
   ],
   "source": [
    "# Функция с двумя параметрами: название валюты currency и формат ответа format\n",
    "# при значении format 'full' будем отдавать все, что знаем о валюте\n",
    "# при значении format = 'value' только значение ключа 'Value', т. е. курс (округленный до 2 цифр после запятой)\n",
    "# если пользователь ввел несуществующую валюту или формат - возвращаем предупреждение\n",
    "\n",
    "def exchange_rates(currency, format='full'):\n",
    "    response = requests.get('https://www.cbr-xml-daily.ru/daily_json.js').json()['Valute']\n",
    "    if currency in response:\n",
    "        data = response[currency]\n",
    "    else:\n",
    "        return 'Unknown currency!'\n",
    "    if format == 'full':\n",
    "        return data  \n",
    "    elif format == 'value':\n",
    "        return round(data['Value'], 2)\n",
    "    else:\n",
    "        return 'Unknown format!'\n",
    "        \n",
    "\n",
    "exchange_rates('BYN', format='full')"
   ]
  },
  {
   "cell_type": "code",
   "execution_count": 6,
   "metadata": {},
   "outputs": [
    {
     "name": "stdout",
     "output_type": "stream",
     "text": [
      "Польский злотый\n"
     ]
    }
   ],
   "source": [
    "# Напишем функцию, которая по ID валюты возвращает ее название на русском языке\n",
    "def currency_name(currency_ID):\n",
    "    response = requests.get('https://www.cbr-xml-daily.ru/daily_json.js').json()['Valute']\n",
    "    for line in response.values():\n",
    "        if line['ID'] == currency_ID:\n",
    "            print(line['Name'])\n",
    "            \n",
    "currency_name('R01565')"
   ]
  },
  {
   "cell_type": "markdown",
   "metadata": {},
   "source": [
    "### Парсинг на LENTA.RU"
   ]
  },
  {
   "cell_type": "code",
   "execution_count": 7,
   "metadata": {},
   "outputs": [
    {
     "name": "stdout",
     "output_type": "stream",
     "text": [
      "200\n"
     ]
    }
   ],
   "source": [
    "import requests\n",
    "url = 'https://lenta.ru/articles/2018/07/01/pobeda/'\n",
    "r = requests.get(url)\n",
    "print(r.status_code)"
   ]
  },
  {
   "cell_type": "code",
   "execution_count": 8,
   "metadata": {},
   "outputs": [
    {
     "data": {
      "text/plain": [
       "'Россия уделала Испанию на чемпионате мира. Вся\\xa0страна в шоке и ликует: Coцсети: Интернет и СМИ: Lenta.ru'"
      ]
     },
     "execution_count": 8,
     "metadata": {},
     "output_type": "execute_result"
    }
   ],
   "source": [
    "# Содержимое страницы у нас лежит в r.text\n",
    "# чтобы извлекать нужную нам информацию, воспользуемся библиотекой BeautifulSoup\n",
    "# переведем содержимое страницы в объект BeautifulSoup\n",
    "from bs4 import BeautifulSoup\n",
    "soup = BeautifulSoup(r.text, 'lxml')\n",
    "soup.title.text"
   ]
  },
  {
   "cell_type": "code",
   "execution_count": 9,
   "metadata": {},
   "outputs": [
    {
     "data": {
      "text/plain": [
       "'«Простите, парни, что поливал вас дерьмом на\\xa0каждом углу»'"
      ]
     },
     "execution_count": 9,
     "metadata": {},
     "output_type": "execute_result"
    }
   ],
   "source": [
    "soup.find(class_='b-topic__title').text"
   ]
  },
  {
   "cell_type": "code",
   "execution_count": 10,
   "metadata": {},
   "outputs": [
    {
     "data": {
      "text/plain": [
       "' 21:20,  1 июля 2018'"
      ]
     },
     "execution_count": 10,
     "metadata": {},
     "output_type": "execute_result"
    }
   ],
   "source": [
    "topic = soup.find('div', class_='b-topic__info')\n",
    "topic.find(class_ ='g-date').text"
   ]
  },
  {
   "cell_type": "code",
   "execution_count": 11,
   "metadata": {},
   "outputs": [
    {
     "data": {
      "text/plain": [
       "'Сборная России обыграла Испанию и вышла в четвертьфинал чемпионата мира по футболу. Многие ждали от встречи с сильнейшей команды планеты хотя бы нестыдной борьбы, а в итоге получили исторический матч — 4:3, результат превзошел все ожидания. Шок, ликование на улицах, а в соцсетях\\xa0— пожар, эмоции переполняют болельщиков.Пользователи сети благодарят команду и извиняются перед тренером, в которого еще совсем недавно не верили.\\n—\\n  милькøш 击 (@lixoradkaenota)\\n  01 июля 2018, 16:54\\n\\n\\n\\n—\\n  созерцатель (@newfag_in_life)\\n  01 июля 2018, 16:42\\n\\n\\n\\n—\\n  Vitaly Petrov (@vitalypetrov)\\n  01 июля 2018, 17:02\\n\\n\\n\\n—\\n  Борисыч (@Borisich_glass)\\n  01 июля 2018, 16:54\\n\\n\\n\\n—\\n  Anton Ziuzenok (@a_ziuzenok)\\n  01 июля 2018, 17:16\\n\\n\\n\\n—\\n  Станислав Рынкевич (@salt1s)\\n  01 июля 2018, 16:51\\n\\n\\n\\n—\\n  Марат Касем (@MaratQasem)\\n  01 июля 2018, 17:12\\n\\n\\n\\n—\\n  Ромыч (@Instigator_88)\\n  01 июля 2018, 17:03\\n\\n\\n\\n—\\n  Milligan (@milligantop)\\n  01 июля 2018, 17:03\\n\\n\\nЧемпионат в России называют самым непредсказуемым. Ранее мундиаль покинули такие мастодонты, как сборные Германии, Аргентины и Португалии.\\n—\\n  miss darkness (@she_lova_)\\n  01 июля 2018, 16:43\\n\\n\\n\\n—\\n  остывший кофе ёнкея ♡ day6 🙂🔫 (@Fall_Out_Daria)\\n  01 июля 2018, 16:46\\n\\n\\nГероем матча болельщики единогласно признают голкипера Игоря Акинфеева, отбившего два мяча во время серии решающих пенальти.\\n—\\n  Valya Gorushkina (@valyagorushkina)\\n  01 июля 2018, 17:00\\n\\n\\n\\n—\\n  Your Bieber Fever💜🇸🇪🇫🇷 (@Alisa06101)\\n  01 июля 2018, 16:57\\n\\n\\n\\n—\\n  винчеро🇫🇷🇷🇺🇯🇵 (@quad_axels)\\n  01 июля 2018, 17:07\\n\\n\\n\\n—\\n  Сладкий парень с корейской начинкой♡SOPE♡ (@GuyFloral)\\n  01 июля 2018, 17:01\\n\\n\\n\\n—\\n  Let it be (@maleenkiymyc)\\n  01 июля 2018, 16:44\\n\\n\\nВ Акинфеева верили и другие игроки сборной, например, Артем Дзюба.\\n—\\n  Сборная России (@TeamRussia)\\n  01 июля 2018, 17:05\\n\\n\\nПользователи не обошли вниманием и других футболистов сборной.\\n—\\n  сахарная княжна (@yasakharnaya)\\n  01 июля 2018, 15:36\\n\\n\\nПобеду сборной России как свою восприняли не только россияне, но и жители соседних государств.\\n—\\n  Andre le Boshèl (@AndrewBoshel)\\n  01 июля 2018, 15:48\\n\\n\\n'"
      ]
     },
     "execution_count": 11,
     "metadata": {},
     "output_type": "execute_result"
    }
   ],
   "source": [
    "soup.find(itemprop='articleBody').text"
   ]
  },
  {
   "cell_type": "code",
   "execution_count": 12,
   "metadata": {},
   "outputs": [
    {
     "name": "stdout",
     "output_type": "stream",
     "text": [
      "<a href=\"https://lenta.ru/news/2018/07/01/russia_win/\" target=\"_blank\">обыграла</a>\n",
      "<a href=\"https://twitter.com/lixoradkaenota/status/1013465983061778433\"><time datetime=\"2018-07-01T16:54:54+00:00\">01 июля 2018, 16:54</time></a>\n",
      "<a href=\"https://twitter.com/newfag_in_life/status/1013462966782582785\"><time datetime=\"2018-07-01T16:42:55+00:00\">01 июля 2018, 16:42</time></a>\n",
      "<a href=\"https://twitter.com/vitalypetrov/status/1013467931257311232\"><time datetime=\"2018-07-01T17:02:38+00:00\">01 июля 2018, 17:02</time></a>\n",
      "<a href=\"https://twitter.com/Borisich_glass/status/1013465759799042048\"><time datetime=\"2018-07-01T16:54:01+00:00\">01 июля 2018, 16:54</time></a>\n",
      "<a href=\"https://twitter.com/a_ziuzenok/status/1013471409979445249\"><time datetime=\"2018-07-01T17:16:28+00:00\">01 июля 2018, 17:16</time></a>\n",
      "<a href=\"https://twitter.com/salt1s/status/1013465249989775360\"><time datetime=\"2018-07-01T16:51:59+00:00\">01 июля 2018, 16:51</time></a>\n",
      "<a href=\"https://twitter.com/MaratQasem/status/1013470315492585474\"><time datetime=\"2018-07-01T17:12:07+00:00\">01 июля 2018, 17:12</time></a>\n",
      "<a href=\"https://twitter.com/Instigator_88/status/1013468227370962944\"><time datetime=\"2018-07-01T17:03:49+00:00\">01 июля 2018, 17:03</time></a>\n",
      "<a href=\"https://twitter.com/milligantop/status/1013468156373950464\"><time datetime=\"2018-07-01T17:03:32+00:00\">01 июля 2018, 17:03</time></a>\n",
      "<a href=\"https://twitter.com/she_lova_/status/1013463135477551108\"><time datetime=\"2018-07-01T16:43:35+00:00\">01 июля 2018, 16:43</time></a>\n",
      "<a href=\"https://twitter.com/Fall_Out_Daria/status/1013463774253248512\"><time datetime=\"2018-07-01T16:46:07+00:00\">01 июля 2018, 16:46</time></a>\n",
      "<a href=\"/tags/persons/akinfeev-igor/\" target=\"_blank\">Игоря Акинфеева</a>\n",
      "<a href=\"https://twitter.com/valyagorushkina/status/1013467293144305665\"><time datetime=\"2018-07-01T17:00:06+00:00\">01 июля 2018, 17:00</time></a>\n",
      "<a href=\"https://twitter.com/Alisa06101/status/1013466591034511369\"><time datetime=\"2018-07-01T16:57:19+00:00\">01 июля 2018, 16:57</time></a>\n",
      "<a href=\"https://twitter.com/quad_axels/status/1013469038406701056\"><time datetime=\"2018-07-01T17:07:02+00:00\">01 июля 2018, 17:07</time></a>\n",
      "<a href=\"https://twitter.com/GuyFloral/status/1013467692601184256\"><time datetime=\"2018-07-01T17:01:41+00:00\">01 июля 2018, 17:01</time></a>\n",
      "<a href=\"https://twitter.com/maleenkiymyc/status/1013463484967907328\"><time datetime=\"2018-07-01T16:44:58+00:00\">01 июля 2018, 16:44</time></a>\n",
      "<a href=\"/tags/persons/dzyuba-artem/\" target=\"_blank\">Артем Дзюба</a>\n",
      "<a href=\"https://twitter.com/TeamRussia/status/1013468750757224448\"><time datetime=\"2018-07-01T17:05:54+00:00\">01 июля 2018, 17:05</time></a>\n",
      "<a href=\"https://twitter.com/yasakharnaya/status/1013446164954472448\"><time datetime=\"2018-07-01T15:36:09+00:00\">01 июля 2018, 15:36</time></a>\n",
      "<a href=\"https://twitter.com/AndrewBoshel/status/1013449295993999360\"><time datetime=\"2018-07-01T15:48:35+00:00\">01 июля 2018, 15:48</time></a>\n"
     ]
    }
   ],
   "source": [
    "# Чаще всего ссылка на HTML-странице задается тэгом 'a', у которого в параметре 'href' прописывается текст ссылки\n",
    "# Зададим поиск по тэгу 'a' в теле нашей статьи\n",
    "for link in soup.find(itemprop='articleBody').find_all('a'):\n",
    "    print(link)"
   ]
  },
  {
   "cell_type": "code",
   "execution_count": 13,
   "metadata": {},
   "outputs": [
    {
     "name": "stdout",
     "output_type": "stream",
     "text": [
      "https://lenta.ru/news/2018/07/01/russia_win/\n",
      "https://twitter.com/lixoradkaenota/status/1013465983061778433\n",
      "https://twitter.com/newfag_in_life/status/1013462966782582785\n",
      "https://twitter.com/vitalypetrov/status/1013467931257311232\n",
      "https://twitter.com/Borisich_glass/status/1013465759799042048\n",
      "https://twitter.com/a_ziuzenok/status/1013471409979445249\n",
      "https://twitter.com/salt1s/status/1013465249989775360\n",
      "https://twitter.com/MaratQasem/status/1013470315492585474\n",
      "https://twitter.com/Instigator_88/status/1013468227370962944\n",
      "https://twitter.com/milligantop/status/1013468156373950464\n",
      "https://twitter.com/she_lova_/status/1013463135477551108\n",
      "https://twitter.com/Fall_Out_Daria/status/1013463774253248512\n",
      "/tags/persons/akinfeev-igor/\n",
      "https://twitter.com/valyagorushkina/status/1013467293144305665\n",
      "https://twitter.com/Alisa06101/status/1013466591034511369\n",
      "https://twitter.com/quad_axels/status/1013469038406701056\n",
      "https://twitter.com/GuyFloral/status/1013467692601184256\n",
      "https://twitter.com/maleenkiymyc/status/1013463484967907328\n",
      "/tags/persons/dzyuba-artem/\n",
      "https://twitter.com/TeamRussia/status/1013468750757224448\n",
      "https://twitter.com/yasakharnaya/status/1013446164954472448\n",
      "https://twitter.com/AndrewBoshel/status/1013449295993999360\n"
     ]
    }
   ],
   "source": [
    "# В данном случае просто извлечем значение href из этих ссылок с помощью .get('href')\n",
    "for link in soup.find(itemprop='articleBody').find_all('a'):\n",
    "    print(link.get('href'))"
   ]
  },
  {
   "cell_type": "code",
   "execution_count": 14,
   "metadata": {},
   "outputs": [
    {
     "data": {
      "text/html": [
       "<div>\n",
       "<style scoped>\n",
       "    .dataframe tbody tr th:only-of-type {\n",
       "        vertical-align: middle;\n",
       "    }\n",
       "\n",
       "    .dataframe tbody tr th {\n",
       "        vertical-align: top;\n",
       "    }\n",
       "\n",
       "    .dataframe thead th {\n",
       "        text-align: right;\n",
       "    }\n",
       "</style>\n",
       "<table border=\"1\" class=\"dataframe\">\n",
       "  <thead>\n",
       "    <tr style=\"text-align: right;\">\n",
       "      <th></th>\n",
       "      <th>Курсы валют</th>\n",
       "      <th>с 11.06.2020</th>\n",
       "      <th>с 12.06.2020</th>\n",
       "    </tr>\n",
       "  </thead>\n",
       "  <tbody>\n",
       "    <tr>\n",
       "      <th>0</th>\n",
       "      <td>Доллар США</td>\n",
       "      <td>68,6183₽</td>\n",
       "      <td>69,1219₽</td>\n",
       "    </tr>\n",
       "    <tr>\n",
       "      <th>1</th>\n",
       "      <td>Евро</td>\n",
       "      <td>77,9229₽</td>\n",
       "      <td>78,5225₽</td>\n",
       "    </tr>\n",
       "  </tbody>\n",
       "</table>\n",
       "</div>"
      ],
      "text/plain": [
       "  Курсы валют с 11.06.2020 с 12.06.2020\n",
       "0  Доллар США     68,6183₽     69,1219₽\n",
       "1        Евро     77,9229₽     78,5225₽"
      ]
     },
     "execution_count": 14,
     "metadata": {},
     "output_type": "execute_result"
    }
   ],
   "source": [
    "# Метод read_html из pandas умеет автоматически находить на HTML-странице таблицы и возвращать их списком из датафреймов\n",
    "import pandas as pd\n",
    "url = 'http://www.cbr.ru'\n",
    "pd.read_html(url)[0]"
   ]
  },
  {
   "cell_type": "code",
   "execution_count": 15,
   "metadata": {},
   "outputs": [
    {
     "data": {
      "text/html": [
       "<div>\n",
       "<style scoped>\n",
       "    .dataframe tbody tr th:only-of-type {\n",
       "        vertical-align: middle;\n",
       "    }\n",
       "\n",
       "    .dataframe tbody tr th {\n",
       "        vertical-align: top;\n",
       "    }\n",
       "\n",
       "    .dataframe thead th {\n",
       "        text-align: right;\n",
       "    }\n",
       "</style>\n",
       "<table border=\"1\" class=\"dataframe\">\n",
       "  <thead>\n",
       "    <tr style=\"text-align: right;\">\n",
       "      <th></th>\n",
       "      <th>0</th>\n",
       "      <th>1</th>\n",
       "    </tr>\n",
       "  </thead>\n",
       "  <tbody>\n",
       "    <tr>\n",
       "      <th>0</th>\n",
       "      <td>рублей за грамм</td>\n",
       "      <td>12.06.2020</td>\n",
       "    </tr>\n",
       "    <tr>\n",
       "      <th>1</th>\n",
       "      <td>Золото  Au</td>\n",
       "      <td>3 848,83</td>\n",
       "    </tr>\n",
       "    <tr>\n",
       "      <th>2</th>\n",
       "      <td>Серебро  Ag</td>\n",
       "      <td>3972</td>\n",
       "    </tr>\n",
       "    <tr>\n",
       "      <th>3</th>\n",
       "      <td>Платина  Pt</td>\n",
       "      <td>1 833,41</td>\n",
       "    </tr>\n",
       "    <tr>\n",
       "      <th>4</th>\n",
       "      <td>Палладий  Pd</td>\n",
       "      <td>4 282,41</td>\n",
       "    </tr>\n",
       "  </tbody>\n",
       "</table>\n",
       "</div>"
      ],
      "text/plain": [
       "                 0           1\n",
       "0  рублей за грамм  12.06.2020\n",
       "1       Золото  Au    3 848,83\n",
       "2      Серебро  Ag        3972\n",
       "3      Платина  Pt    1 833,41\n",
       "4     Палладий  Pd    4 282,41"
      ]
     },
     "execution_count": 15,
     "metadata": {},
     "output_type": "execute_result"
    }
   ],
   "source": [
    "url_1 = 'http://www.cbr.ru/key-indicators/'\n",
    "pd.read_html(url_1)[1]"
   ]
  },
  {
   "cell_type": "code",
   "execution_count": 16,
   "metadata": {},
   "outputs": [
    {
     "data": {
      "text/html": [
       "<div>\n",
       "<style scoped>\n",
       "    .dataframe tbody tr th:only-of-type {\n",
       "        vertical-align: middle;\n",
       "    }\n",
       "\n",
       "    .dataframe tbody tr th {\n",
       "        vertical-align: top;\n",
       "    }\n",
       "\n",
       "    .dataframe thead th {\n",
       "        text-align: right;\n",
       "    }\n",
       "</style>\n",
       "<table border=\"1\" class=\"dataframe\">\n",
       "  <thead>\n",
       "    <tr style=\"text-align: right;\">\n",
       "      <th></th>\n",
       "      <th>0</th>\n",
       "      <th>1</th>\n",
       "      <th>2</th>\n",
       "      <th>3</th>\n",
       "    </tr>\n",
       "  </thead>\n",
       "  <tbody>\n",
       "    <tr>\n",
       "      <th>0</th>\n",
       "      <td>% годовых</td>\n",
       "      <td>1 день</td>\n",
       "      <td>2-7 дней</td>\n",
       "      <td>8-30 дней</td>\n",
       "    </tr>\n",
       "    <tr>\n",
       "      <th>1</th>\n",
       "      <td>MIACR  за  10.06.2020</td>\n",
       "      <td>525</td>\n",
       "      <td>525</td>\n",
       "      <td>—</td>\n",
       "    </tr>\n",
       "    <tr>\n",
       "      <th>2</th>\n",
       "      <td>RUONIA  за  10.06.2020</td>\n",
       "      <td>514</td>\n",
       "      <td>NaN</td>\n",
       "      <td>NaN</td>\n",
       "    </tr>\n",
       "    <tr>\n",
       "      <th>3</th>\n",
       "      <td>% годовых</td>\n",
       "      <td>1 день</td>\n",
       "      <td>1 неделя</td>\n",
       "      <td>1 месяц</td>\n",
       "    </tr>\n",
       "    <tr>\n",
       "      <th>4</th>\n",
       "      <td>MosPrime Rate  на  11.06.2020</td>\n",
       "      <td>541</td>\n",
       "      <td>550</td>\n",
       "      <td>549</td>\n",
       "    </tr>\n",
       "    <tr>\n",
       "      <th>5</th>\n",
       "      <td>% годовых</td>\n",
       "      <td>1 неделя</td>\n",
       "      <td>2 недели</td>\n",
       "      <td>1 месяц</td>\n",
       "    </tr>\n",
       "    <tr>\n",
       "      <th>6</th>\n",
       "      <td>ROISfix  на  11.06.2020</td>\n",
       "      <td>531</td>\n",
       "      <td>522</td>\n",
       "      <td>507</td>\n",
       "    </tr>\n",
       "  </tbody>\n",
       "</table>\n",
       "</div>"
      ],
      "text/plain": [
       "                               0         1         2          3\n",
       "0                      % годовых    1 день  2-7 дней  8-30 дней\n",
       "1          MIACR  за  10.06.2020       525       525          —\n",
       "2         RUONIA  за  10.06.2020       514       NaN        NaN\n",
       "3                      % годовых    1 день  1 неделя    1 месяц\n",
       "4  MosPrime Rate  на  11.06.2020       541       550        549\n",
       "5                      % годовых  1 неделя  2 недели    1 месяц\n",
       "6        ROISfix  на  11.06.2020       531       522        507"
      ]
     },
     "execution_count": 16,
     "metadata": {},
     "output_type": "execute_result"
    }
   ],
   "source": [
    "url_1 = 'http://www.cbr.ru/key-indicators/'\n",
    "pd.read_html(url_1)[2]"
   ]
  },
  {
   "cell_type": "code",
   "execution_count": 17,
   "metadata": {},
   "outputs": [
    {
     "data": {
      "text/html": [
       "<div>\n",
       "<style scoped>\n",
       "    .dataframe tbody tr th:only-of-type {\n",
       "        vertical-align: middle;\n",
       "    }\n",
       "\n",
       "    .dataframe tbody tr th {\n",
       "        vertical-align: top;\n",
       "    }\n",
       "\n",
       "    .dataframe thead th {\n",
       "        text-align: right;\n",
       "    }\n",
       "</style>\n",
       "<table border=\"1\" class=\"dataframe\">\n",
       "  <thead>\n",
       "    <tr style=\"text-align: right;\">\n",
       "      <th></th>\n",
       "      <th>0</th>\n",
       "      <th>1</th>\n",
       "    </tr>\n",
       "  </thead>\n",
       "  <tbody>\n",
       "    <tr>\n",
       "      <th>0</th>\n",
       "      <td>млрд долл. США</td>\n",
       "      <td>NaN</td>\n",
       "    </tr>\n",
       "    <tr>\n",
       "      <th>1</th>\n",
       "      <td>05.06.2020</td>\n",
       "      <td>5652.0</td>\n",
       "    </tr>\n",
       "  </tbody>\n",
       "</table>\n",
       "</div>"
      ],
      "text/plain": [
       "                0       1\n",
       "0  млрд долл. США     NaN\n",
       "1      05.06.2020  5652.0"
      ]
     },
     "execution_count": 17,
     "metadata": {},
     "output_type": "execute_result"
    }
   ],
   "source": [
    "url_1 = 'http://www.cbr.ru/key-indicators/'\n",
    "pd.read_html(url_1)[3]"
   ]
  },
  {
   "cell_type": "code",
   "execution_count": 18,
   "metadata": {},
   "outputs": [
    {
     "data": {
      "text/html": [
       "<div>\n",
       "<style scoped>\n",
       "    .dataframe tbody tr th:only-of-type {\n",
       "        vertical-align: middle;\n",
       "    }\n",
       "\n",
       "    .dataframe tbody tr th {\n",
       "        vertical-align: top;\n",
       "    }\n",
       "\n",
       "    .dataframe thead th {\n",
       "        text-align: right;\n",
       "    }\n",
       "</style>\n",
       "<table border=\"1\" class=\"dataframe\">\n",
       "  <thead>\n",
       "    <tr style=\"text-align: right;\">\n",
       "      <th></th>\n",
       "      <th>0</th>\n",
       "      <th>1</th>\n",
       "    </tr>\n",
       "  </thead>\n",
       "  <tbody>\n",
       "    <tr>\n",
       "      <th>0</th>\n",
       "      <td>млрд руб.</td>\n",
       "      <td>NaN</td>\n",
       "    </tr>\n",
       "    <tr>\n",
       "      <th>1</th>\n",
       "      <td>Структурный дефицит/профицит ликвидности банко...</td>\n",
       "      <td>-1 760,8</td>\n",
       "    </tr>\n",
       "    <tr>\n",
       "      <th>2</th>\n",
       "      <td>Сведения об остатках средств на корреспондентс...</td>\n",
       "      <td>NaN</td>\n",
       "    </tr>\n",
       "    <tr>\n",
       "      <th>3</th>\n",
       "      <td>по Российской Федерации  на  11.06.2020</td>\n",
       "      <td>2 587,7</td>\n",
       "    </tr>\n",
       "    <tr>\n",
       "      <th>4</th>\n",
       "      <td>по Московскому региону  на  11.06.2020</td>\n",
       "      <td>2 427,5</td>\n",
       "    </tr>\n",
       "    <tr>\n",
       "      <th>5</th>\n",
       "      <td>Объем предоставленных внутридневных кредитов  ...</td>\n",
       "      <td>3399</td>\n",
       "    </tr>\n",
       "    <tr>\n",
       "      <th>6</th>\n",
       "      <td>Депозиты банков в Банке России  на  11.06.2020</td>\n",
       "      <td>1 579,6</td>\n",
       "    </tr>\n",
       "    <tr>\n",
       "      <th>7</th>\n",
       "      <td>ОБР в обращении  на  15.06.2020</td>\n",
       "      <td>7066</td>\n",
       "    </tr>\n",
       "    <tr>\n",
       "      <th>8</th>\n",
       "      <td>Сальдо операций Банка России по предоставлению...</td>\n",
       "      <td>1184</td>\n",
       "    </tr>\n",
       "  </tbody>\n",
       "</table>\n",
       "</div>"
      ],
      "text/plain": [
       "                                                   0         1\n",
       "0                                          млрд руб.       NaN\n",
       "1  Структурный дефицит/профицит ликвидности банко...  -1 760,8\n",
       "2  Сведения об остатках средств на корреспондентс...       NaN\n",
       "3            по Российской Федерации  на  11.06.2020   2 587,7\n",
       "4             по Московскому региону  на  11.06.2020   2 427,5\n",
       "5  Объем предоставленных внутридневных кредитов  ...      3399\n",
       "6     Депозиты банков в Банке России  на  11.06.2020   1 579,6\n",
       "7                    ОБР в обращении  на  15.06.2020      7066\n",
       "8  Сальдо операций Банка России по предоставлению...      1184"
      ]
     },
     "execution_count": 18,
     "metadata": {},
     "output_type": "execute_result"
    }
   ],
   "source": [
    "url_1 = 'http://www.cbr.ru/key-indicators/'\n",
    "pd.read_html(url_1)[4]"
   ]
  },
  {
   "cell_type": "code",
   "execution_count": 19,
   "metadata": {},
   "outputs": [
    {
     "data": {
      "text/html": [
       "<div>\n",
       "<style scoped>\n",
       "    .dataframe tbody tr th:only-of-type {\n",
       "        vertical-align: middle;\n",
       "    }\n",
       "\n",
       "    .dataframe tbody tr th {\n",
       "        vertical-align: top;\n",
       "    }\n",
       "\n",
       "    .dataframe thead th {\n",
       "        text-align: right;\n",
       "    }\n",
       "</style>\n",
       "<table border=\"1\" class=\"dataframe\">\n",
       "  <thead>\n",
       "    <tr style=\"text-align: right;\">\n",
       "      <th></th>\n",
       "      <th>0</th>\n",
       "      <th>1</th>\n",
       "    </tr>\n",
       "  </thead>\n",
       "  <tbody>\n",
       "    <tr>\n",
       "      <th>0</th>\n",
       "      <td>млн руб.</td>\n",
       "      <td>NaN</td>\n",
       "    </tr>\n",
       "    <tr>\n",
       "      <th>1</th>\n",
       "      <td>По кредитам овернайт  на  11.06.2020</td>\n",
       "      <td>00</td>\n",
       "    </tr>\n",
       "    <tr>\n",
       "      <th>2</th>\n",
       "      <td>По ломбардным кредитам  на  11.06.2020</td>\n",
       "      <td>00</td>\n",
       "    </tr>\n",
       "    <tr>\n",
       "      <th>3</th>\n",
       "      <td>По операциям РЕПО  на  15.06.2020</td>\n",
       "      <td>NaN</td>\n",
       "    </tr>\n",
       "    <tr>\n",
       "      <th>4</th>\n",
       "      <td>на аукционной основе</td>\n",
       "      <td>00</td>\n",
       "    </tr>\n",
       "    <tr>\n",
       "      <th>5</th>\n",
       "      <td>по фиксированной ставке</td>\n",
       "      <td>698</td>\n",
       "    </tr>\n",
       "    <tr>\n",
       "      <th>6</th>\n",
       "      <td>По сделкам «валютный своп»  на  15.06.2020</td>\n",
       "      <td>00</td>\n",
       "    </tr>\n",
       "    <tr>\n",
       "      <th>7</th>\n",
       "      <td>По кредитам без обеспечения  на  31.12.2010</td>\n",
       "      <td>00</td>\n",
       "    </tr>\n",
       "    <tr>\n",
       "      <th>8</th>\n",
       "      <td>По другим кредитам  на  11.06.2020</td>\n",
       "      <td>524 952,6</td>\n",
       "    </tr>\n",
       "  </tbody>\n",
       "</table>\n",
       "</div>"
      ],
      "text/plain": [
       "                                             0          1\n",
       "0                                     млн руб.        NaN\n",
       "1         По кредитам овернайт  на  11.06.2020         00\n",
       "2       По ломбардным кредитам  на  11.06.2020         00\n",
       "3            По операциям РЕПО  на  15.06.2020        NaN\n",
       "4                         на аукционной основе         00\n",
       "5                      по фиксированной ставке        698\n",
       "6   По сделкам «валютный своп»  на  15.06.2020         00\n",
       "7  По кредитам без обеспечения  на  31.12.2010         00\n",
       "8           По другим кредитам  на  11.06.2020  524 952,6"
      ]
     },
     "execution_count": 19,
     "metadata": {},
     "output_type": "execute_result"
    }
   ],
   "source": [
    "url_1 = 'http://www.cbr.ru/key-indicators/'\n",
    "pd.read_html(url_1)[5]"
   ]
  },
  {
   "cell_type": "code",
   "execution_count": 46,
   "metadata": {},
   "outputs": [],
   "source": [
    "# используем стандарную библиотеку yaml для чтения файла с нашим сервисным ключом доступа\n",
    "from yaml import safe_load\n",
    "f = open('config.yaml', mode = 'r', encoding = 'utf-8')\n",
    "config = safe_load(f)"
   ]
  },
  {
   "cell_type": "code",
   "execution_count": 21,
   "metadata": {},
   "outputs": [
    {
     "data": {
      "text/plain": [
       "'{\"response\":[{\"id\":1,\"first_name\":\"Pavel\",\"last_name\":\"Durov\",\"sex\":2,\"bdate\":\"10.10.1984\",\"country\":{\"id\":1,\"title\":\"Russia\"}}]}'"
      ]
     },
     "execution_count": 21,
     "metadata": {},
     "output_type": "execute_result"
    }
   ],
   "source": [
    "token = config['access_token']\n",
    "url = 'https://api.vk.com/method/users.get?user_id=1&v=5.52&access_token='+token\n",
    "parameters = {\n",
    "    'user_id': 1,\n",
    "    'v': 5.52,\n",
    "    'fields': 'sex,bdate,country'\n",
    "}\n",
    "r = requests.get(url, params = parameters)\n",
    "r.text"
   ]
  },
  {
   "cell_type": "code",
   "execution_count": 22,
   "metadata": {},
   "outputs": [
    {
     "name": "stdout",
     "output_type": "stream",
     "text": [
      "{'response': [{'bdate': '10.10.1984',\n",
      "               'country': {'id': 1, 'title': 'Russia'},\n",
      "               'first_name': 'Pavel',\n",
      "               'id': 1,\n",
      "               'last_name': 'Durov',\n",
      "               'sex': 2}]}\n"
     ]
    }
   ],
   "source": [
    "# Для улучшения читаемости можно воспользоваться библиотекой pprint, которая помогает читать JSON-формат для больших ответов\n",
    "from pprint import pprint\n",
    "data = r.json()\n",
    "pprint(data)"
   ]
  },
  {
   "cell_type": "code",
   "execution_count": 23,
   "metadata": {},
   "outputs": [
    {
     "name": "stdout",
     "output_type": "stream",
     "text": [
      "10.10.1984\n"
     ]
    }
   ],
   "source": [
    "# Получим из этого запроса дату рождения\n",
    "# для этого надо сначала обратиться к ключу response - data['response']\n",
    "# теперь обращаемся к получившемуся листу из одного элемента data['response'][0]\n",
    "# и, наконец, берем ключ 'bdate'\n",
    "birthday = data['response'][0]['bdate']\n",
    "print(birthday)"
   ]
  },
  {
   "cell_type": "markdown",
   "metadata": {},
   "source": [
    "### Наглядный пример использования API из VK"
   ]
  },
  {
   "cell_type": "code",
   "execution_count": 24,
   "metadata": {},
   "outputs": [
    {
     "name": "stdout",
     "output_type": "stream",
     "text": [
      "{'response': [{'id': 1, 'first_name': 'Pavel', 'last_name': 'Durov', 'sex': 2}]}\n",
      "{'response': [{'id': 2, 'first_name': 'Alexandra', 'last_name': 'Vladimirova', 'sex': 1}]}\n",
      "{'response': [{'id': 3, 'first_name': 'DELETED', 'last_name': '', 'deactivated': 'deleted', 'sex': 0}]}\n",
      "{'response': [{'id': 4, 'first_name': 'DELETED', 'last_name': '', 'deactivated': 'deleted', 'sex': 0}]}\n",
      "{'response': [{'id': 5, 'first_name': 'Ilya', 'last_name': 'Perekopsky', 'sex': 2}]}\n",
      "{'response': [{'id': 6, 'first_name': 'Nikolay', 'last_name': 'Durov', 'sex': 2}]}\n",
      "{'response': [{'id': 7, 'first_name': 'Alexey', 'last_name': 'Kobylyansky', 'sex': 2}]}\n",
      "{'response': [{'id': 8, 'first_name': 'Aki', 'last_name': 'Sepiashvili', 'sex': 2}]}\n",
      "{'response': [{'id': 9, 'first_name': 'Nastya', 'last_name': 'Vasilyeva', 'sex': 1}]}\n",
      "{'response': [{'id': 10, 'first_name': 'Alexander', 'last_name': 'Kuznetsov', 'sex': 2}]}\n",
      "0.25\n"
     ]
    }
   ],
   "source": [
    "# Имеется набор ID пользователей users.\n",
    "# Необходимо посчитать какую долю этих пользователей составляют женщины.\n",
    "# Не учитывайте пользователей, у которых пол не указан. Пример формата ответа: 0.35. \n",
    "\n",
    "import requests\n",
    "from yaml import safe_load\n",
    "f = open('config.yaml', mode = 'r', encoding = 'utf-8')\n",
    "config = safe_load(f)\n",
    "token = config['access_token']\n",
    "\n",
    "users = [1, 2, 3, 4, 5, 6, 7, 8, 9, 10]\n",
    "\n",
    "url = 'https://api.vk.com/method/users.get'\n",
    "\n",
    "women_count = 0\n",
    "men_count = 0\n",
    "\n",
    "for user in users:\n",
    "    parameters = {\n",
    "        'user_id': user,\n",
    "        'v': 5.52,\n",
    "        'fields': 'sex',\n",
    "        'access_token': token\n",
    "    }\n",
    "    r = requests.get(url, params = parameters)\n",
    "    print(r.json())\n",
    "    \n",
    "    if r.json()['response'][0]['sex'] == 1:\n",
    "        women_count += 1\n",
    "    elif r.json()['response'][0]['sex'] == 2:\n",
    "        men_count += 1\n",
    "\n",
    "share_of_women = women_count / (women_count + men_count)\n",
    "print(share_of_women)"
   ]
  },
  {
   "cell_type": "code",
   "execution_count": 25,
   "metadata": {},
   "outputs": [],
   "source": [
    "# получим список пользователей группы https://vk.com/habr\n",
    "# из-за ограничения получаем только первую тысячу из 708 тыс. пользователей данной группы \n",
    "# 1000 это максимум, который может отдать API за раз\n",
    "import requests\n",
    "url = 'https://api.vk.com/method/groups.getMembers'\n",
    "params = {\n",
    "    'group_id': 'habr',\n",
    "    'v': 5.73,\n",
    "    'access_token': token\n",
    "}\n",
    "r = requests.get(url, params = params)\n",
    "data = r.json()"
   ]
  },
  {
   "cell_type": "code",
   "execution_count": 26,
   "metadata": {},
   "outputs": [
    {
     "data": {
      "text/plain": [
       "959"
      ]
     },
     "execution_count": 26,
     "metadata": {},
     "output_type": "execute_result"
    }
   ],
   "source": [
    "# считаем количество пользователей в data, у которых ID больше 1000\n",
    "len([x for x in data['response']['items'] if x > 1000]) "
   ]
  },
  {
   "cell_type": "code",
   "execution_count": 27,
   "metadata": {},
   "outputs": [
    {
     "name": "stdout",
     "output_type": "stream",
     "text": [
      "[6, 10, 11, 17, 24, 34, 55, 161, 169, 239, 243, 251, 341, 345, 404, 409, 453, 478, 480, 488]\n"
     ]
    }
   ],
   "source": [
    "# выведем на экран первые 20 пользователей из нашей первой попытки с 1000 пользователей для сверки результата выгрузки\n",
    "users_for_checking = data['response']['items'][:20]\n",
    "print(users_for_checking)"
   ]
  },
  {
   "cell_type": "code",
   "execution_count": 28,
   "metadata": {},
   "outputs": [
    {
     "name": "stdout",
     "output_type": "stream",
     "text": [
      "Выгружаю 5 пользователей с offset = 0\n",
      "Выгружаю 5 пользователей с offset = 5\n",
      "Выгружаю 5 пользователей с offset = 10\n",
      "Выгружаю 5 пользователей с offset = 15\n",
      "[6, 10, 11, 17, 24, 34, 55, 161, 169, 239, 243, 251, 341, 345, 404, 409, 453, 478, 480, 488]\n"
     ]
    }
   ],
   "source": [
    "# Напишем цикл выгрузки первых 20 пользователей со значением count = 5\n",
    "# Т. е. цикл будет выгружать за 1 запрос по 5 пользователей, пока не выгрузит первые 20\n",
    "# Это позволит нам проверить корректность работы цикла перед тем, как делать большие и долгие выгрузки\n",
    "import requests\n",
    "\n",
    "url = 'https://api.vk.com/method/groups.getMembers'\n",
    "\n",
    "count = 5\n",
    "offset = 0\n",
    "user_ids = []\n",
    "while offset < 20:\n",
    "    print('Выгружаю {} пользователей с offset = {}'.format(count, offset))   \n",
    "    params = {\n",
    "        'group_id': 'habr',\n",
    "        'v': 5.73,\n",
    "        'count': count,\n",
    "        'offset': offset,\n",
    "        'access_token': token\n",
    "    }   \n",
    "    # такой же запрос как в прошлый раз\n",
    "    r = requests.get(url, params = params)\n",
    "    data = r.json()   \n",
    "    user_ids += data['response']['items'] \n",
    "\n",
    "    # увеличиваем смещение на количество строк выгрузки\n",
    "    offset += count\n",
    "\n",
    "print(user_ids)"
   ]
  },
  {
   "cell_type": "code",
   "execution_count": 29,
   "metadata": {},
   "outputs": [
    {
     "data": {
      "text/plain": [
       "True"
      ]
     },
     "execution_count": 29,
     "metadata": {},
     "output_type": "execute_result"
    }
   ],
   "source": [
    "users_for_checking == user_ids"
   ]
  },
  {
   "cell_type": "code",
   "execution_count": 30,
   "metadata": {},
   "outputs": [
    {
     "name": "stdout",
     "output_type": "stream",
     "text": [
      "{'response': [{'bdate': '10.10.1984',\n",
      "               'city': {'id': 2, 'title': 'Saint Petersburg'},\n",
      "               'first_name': 'Pavel',\n",
      "               'id': 1,\n",
      "               'last_name': 'Durov',\n",
      "               'sex': 2},\n",
      "              {'city': {'id': 4282734, 'title': 'Overwhere'},\n",
      "               'first_name': 'Alexandra',\n",
      "               'id': 2,\n",
      "               'last_name': 'Vladimirova',\n",
      "               'sex': 1},\n",
      "              {'deactivated': 'deleted',\n",
      "               'first_name': 'DELETED',\n",
      "               'id': 3,\n",
      "               'last_name': '',\n",
      "               'sex': 0}]}\n"
     ]
    }
   ],
   "source": [
    "url = 'https://api.vk.com/method/users.get'\n",
    "params = {\n",
    "    'user_ids': '1,2,3',\n",
    "    'v': 5.73,\n",
    "    'fields': 'sex,bdate,city',\n",
    "    'access_token': token\n",
    "}\n",
    "from pprint import pprint\n",
    "data = requests.get(url, params = params)\n",
    "pprint(data.json())"
   ]
  },
  {
   "cell_type": "markdown",
   "metadata": {},
   "source": [
    "### Пример для группы \"Фотографы Беларуси\""
   ]
  },
  {
   "cell_type": "code",
   "execution_count": 31,
   "metadata": {
    "scrolled": false
   },
   "outputs": [
    {
     "name": "stdout",
     "output_type": "stream",
     "text": [
      "Выгружаю 500 пользователей с offset = 0\n",
      "Ожидаю 0.5 секунды...\n",
      "Выгружаю 500 пользователей с offset = 500\n",
      "Ожидаю 0.5 секунды...\n",
      "Выгружаю 500 пользователей с offset = 1000\n",
      "Ожидаю 0.5 секунды...\n",
      "Выгружаю 500 пользователей с offset = 1500\n",
      "Ожидаю 0.5 секунды...\n",
      "Выгружаю 500 пользователей с offset = 2000\n",
      "Ожидаю 0.5 секунды...\n",
      "Выгружаю 500 пользователей с offset = 2500\n",
      "Ожидаю 0.5 секунды...\n",
      "Выгружаю 500 пользователей с offset = 3000\n",
      "Ожидаю 0.5 секунды...\n",
      "Выгружаю 500 пользователей с offset = 3500\n",
      "Ожидаю 0.5 секунды...\n",
      "Выгружаю 500 пользователей с offset = 4000\n",
      "Ожидаю 0.5 секунды...\n",
      "Выгружаю 500 пользователей с offset = 4500\n",
      "Ожидаю 0.5 секунды...\n",
      "Выгружаю 500 пользователей с offset = 5000\n",
      "Ожидаю 0.5 секунды...\n"
     ]
    }
   ],
   "source": [
    "# Делаем выгрузку ID всех пользователей группы https://vk.com/fotodotby\n",
    "import requests\n",
    "from yaml import safe_load\n",
    "f = open('config.yaml', mode = 'r', encoding = 'utf-8')\n",
    "config = safe_load(f)\n",
    "token = config['access_token']\n",
    "\n",
    "import time\n",
    "import requests\n",
    "\n",
    "url = 'https://api.vk.com/method/groups.getMembers'\n",
    "\n",
    "count = 500\n",
    "offset = 0\n",
    "user_ids = []\n",
    "while offset < 5500:\n",
    "    print('Выгружаю {} пользователей с offset = {}'.format(count, offset))   \n",
    "    params = {\n",
    "        'group_id': 'fotodotby',\n",
    "        'v': 5.73,\n",
    "        'count': count,\n",
    "        'offset': offset,\n",
    "        'access_token': token\n",
    "    }   \n",
    "    # такой же запрос как в прошлый раз\n",
    "    r = requests.get(url, params = params)\n",
    "    data = r.json()   \n",
    "    user_ids += data['response']['items'] \n",
    "\n",
    "    # увеличиваем смещение на количество строк выгрузки\n",
    "    offset += count\n",
    "\n",
    "    # Чтобы не делать запросы к API слишком часто, можем искусственно замедлять выгрузку\n",
    "    print('Ожидаю 0.5 секунды...')\n",
    "    time.sleep(0.5)\n"
   ]
  },
  {
   "cell_type": "code",
   "execution_count": 32,
   "metadata": {},
   "outputs": [
    {
     "data": {
      "text/plain": [
       "55"
      ]
     },
     "execution_count": 32,
     "metadata": {},
     "output_type": "execute_result"
    }
   ],
   "source": [
    "# Разбиваем наш лист с 5500 пользователей user_ids на 55 листа user_lists по 100 человек\n",
    "rows_limit = 100\n",
    "user_lists = []\n",
    "position = 0\n",
    "while position < len(user_ids):\n",
    "    user_lists.append(user_ids[position:position + rows_limit])\n",
    "    position += rows_limit\n",
    "\n",
    "len(user_lists)"
   ]
  },
  {
   "cell_type": "code",
   "execution_count": 33,
   "metadata": {},
   "outputs": [],
   "source": [
    "# Считаем количество женщин и мужчин в данной группе\n",
    "women_count = 0\n",
    "men_count = 0\n",
    "\n",
    "url = 'https://api.vk.com/method/users.get'\n",
    "\n",
    "for i in user_lists:\n",
    "    for user in i:\n",
    "        parameters = {\n",
    "            'user_id': user,\n",
    "            'v': 5.52,\n",
    "            'fields': 'sex',\n",
    "            'access_token': token\n",
    "        }\n",
    "        r1 = requests.get(url, params = parameters)\n",
    "                \n",
    "        if r1.json()['response'][0]['sex'] == 1:\n",
    "            women_count += 1\n",
    "        elif r1.json()['response'][0]['sex'] == 2:\n",
    "            men_count += 1\n"
   ]
  },
  {
   "cell_type": "code",
   "execution_count": 34,
   "metadata": {},
   "outputs": [
    {
     "data": {
      "text/plain": [
       "65.5"
      ]
     },
     "execution_count": 34,
     "metadata": {},
     "output_type": "execute_result"
    }
   ],
   "source": [
    "total = women_count + men_count\n",
    "share_of_women = round((women_count / total)*100, 1)\n",
    "share_of_women"
   ]
  },
  {
   "cell_type": "code",
   "execution_count": 35,
   "metadata": {},
   "outputs": [],
   "source": [
    "# Заполняем словарь названиями городов и соответствующим им количеством пользователей\n",
    "city_dict = {}\n",
    "\n",
    "url = 'https://api.vk.com/method/users.get'\n",
    "\n",
    "for i in user_lists:\n",
    "    for user in i:\n",
    "        parameters = {\n",
    "            'user_id': user,\n",
    "            'v': 5.52,\n",
    "            'fields': 'city',\n",
    "            'access_token': token\n",
    "        }\n",
    "        r = requests.get(url, params = parameters)\n",
    "        data = r.json()\n",
    "        if 'city' in data['response'][0]:\n",
    "            if data['response'][0]['city']['title'] in city_dict:\n",
    "                city_dict[data['response'][0]['city']['title']] += 1\n",
    "            else:\n",
    "                city_dict[data['response'][0]['city']['title']] = 1\n",
    "\n"
   ]
  },
  {
   "cell_type": "code",
   "execution_count": 36,
   "metadata": {},
   "outputs": [],
   "source": [
    "import pandas as pd\n",
    "\n",
    "# Переводим словарь city_dict в датафрейм\n",
    "df = pd.DataFrame.from_dict(city_dict, orient = 'index').reset_index()\n",
    "# Переименовываем для удобства названия столбцов и сортируем датафрейм\n",
    "df.rename(columns = {'index': 'city', 0: 'users'}, inplace = True)\n",
    "df = df.sort_values('users', ascending = False)"
   ]
  },
  {
   "cell_type": "code",
   "execution_count": 37,
   "metadata": {},
   "outputs": [],
   "source": [
    "# Возьмем города с количеством пользователей более 50, а остальные значения определим как \"другие\" и сгруппируем по category\n",
    "df['category'] = df.apply(lambda x: x['city'] if x['users'] > 100 else 'other', axis = 1)\n",
    "df = df.groupby('category').sum()"
   ]
  },
  {
   "cell_type": "code",
   "execution_count": 38,
   "metadata": {},
   "outputs": [
    {
     "data": {
      "text/plain": [
       "<matplotlib.axes._subplots.AxesSubplot at 0x1e6ed5a75c8>"
      ]
     },
     "execution_count": 38,
     "metadata": {},
     "output_type": "execute_result"
    },
    {
     "data": {
      "image/png": "[encoded data removed]",
      "text/plain": [
       "<Figure size 504x504 with 1 Axes>"
      ]
     },
     "metadata": {},
     "output_type": "display_data"
    }
   ],
   "source": [
    "# Визуализируем результат\n",
    "%matplotlib inline\n",
    "df.head(10).plot(kind = 'pie', y = 'users', figsize= (7, 7))"
   ]
  },
  {
   "cell_type": "code",
   "execution_count": 39,
   "metadata": {},
   "outputs": [],
   "source": [
    "# проанализируем последние 100 постов в группе\n",
    "import requests\n",
    "from pprint import pprint\n",
    "\n",
    "url = 'https://api.vk.com/method/wall.get'\n",
    "params = {\n",
    "    'domain': 'fotodotby',\n",
    "    'filter': 'owner',\n",
    "    'count': 100,\n",
    "    'offset': 0,\n",
    "    'access_token': token,\n",
    "    'v': 5.73\n",
    "}\n",
    "data = requests.get(url, params = params)"
   ]
  },
  {
   "cell_type": "code",
   "execution_count": 40,
   "metadata": {},
   "outputs": [],
   "source": [
    "Started = True\n",
    "stats = {}\n",
    "for record in data.json()['response']['items']:\n",
    "    if Started:\n",
    "        Started = False    \n",
    "    else:\n",
    "        if 'attachments' in record:\n",
    "            if 'link' in record['attachments'][0]:\n",
    "                title = record['attachments'][0]['link']['title']\n",
    "            elif 'photo' in record['attachments'][0]:\n",
    "                title = record['attachments'][0]['photo']['text']\n",
    "        elif 'copy_history' in record:\n",
    "            if 'link' in record['copy_history'][0]['attachments'][0]:\n",
    "                title = record['copy_history'][0]['attachments'][0]['link']['title']\n",
    "            elif 'poll' in record['copy_history'][0]['attachments'][0]:\n",
    "                title = record['copy_history'][0]['attachments'][0]['poll']['question']\n",
    "        stats[title] = [record['comments']['count'], record['likes']['count'], record['reposts']['count'], record['date'] ]\n"
   ]
  },
  {
   "cell_type": "code",
   "execution_count": 41,
   "metadata": {},
   "outputs": [
    {
     "data": {
      "text/plain": [
       "{'#филиповец@fotodotby\\n#пейзаж@fotodotby': [1, 19, 0, 1590224416],\n",
       " '#балабан@fotodotby\\n#портрет@fotodotby': [0, 15, 2, 1591952414],\n",
       " '#задёрко@fotodotby\\n#пейзаж@fotodotby': [0, 22, 0, 1589792417],\n",
       " '#шаповалов@fotodotby\\n#макро@fotodotby': [0, 5, 0, 1589187616],\n",
       " '': [0, 6, 0, 1589276815],\n",
       " '#чимковский@fotodotby\\n#пейзаж@fotodotby': [0, 21, 1, 1591858813],\n",
       " '#шатохин@fotodotby\\n#пейзаж@fotodotby': [0, 11, 0, 1591429753],\n",
       " '#шабуневич@fotodotby\\n#пейзаж@fotodotby': [0, 3, 0, 1589353763],\n",
       " '#макро@fotodotby\\n#шаповалов@fotodotby': [0, 9, 0, 1591693213],\n",
       " '#балабан@fotodotby\\n#дети@fotodotby': [0, 26, 2, 1591516900],\n",
       " 'ph: [club176517576|камера криогена]': [0, 15, 0, 1591619402],\n",
       " 'стек из 8 кадров': [0, 4, 0, 1591615802],\n",
       " '#задёрко@fotodotby\\n#жанр@fotodotby': [0, 14, 0, 1591081881],\n",
       " '#селиванов@fotodotby\\n#портрет@fotodotby': [0, 12, 0, 1591599856],\n",
       " 'Странное лето 2020': [0, 24, 1, 1591437610],\n",
       " '#дубровская@fotodotby\\n#дети@fotodotby': [0, 19, 0, 1591434014],\n",
       " 'Первый теплый вечер': [1, 30, 0, 1591351210],\n",
       " '#калпакчи@fotodotby\\n#дети@fotodotby': [1, 12, 0, 1591347615],\n",
       " '#полуэктов@fotodotby\\n#пейзаж@fotodotby': [0, 12, 1, 1589526954],\n",
       " '#душкевич@fotodotby\\n#дети@fotodotby': [0, 14, 0, 1590742813],\n",
       " '#кузнецов@fotodotby\\n#город@fotodotby': [0, 8, 0, 1591174812],\n",
       " '#фролов@fotodotby\\n#пейзаж@fotodotby': [0, 9, 0, 1591168076],\n",
       " 'Цветные сны': [0, 23, 1, 1591005607],\n",
       " '#горюкина@fotodotby\\n#натюрморт@fotodotby': [0, 11, 1, 1591002014],\n",
       " 'Холодный Май': [1, 20, 0, 1590921002],\n",
       " '#шахгусейнов@fotodotby\\n#портрет@fotodotby': [0, 17, 1, 1589181958],\n",
       " '#шатохин@fotodotby\\n#город@fotodotby': [0, 12, 0, 1589706014],\n",
       " '#кулик@fotodotby\\n#дети@fotodotby': [0, 13, 0, 1590737296],\n",
       " '#полуэктов@fotodotby\\n#животные@fotodotby': [0, 12, 0, 1589101214],\n",
       " '#дети@fotodotby\\n#балабан@fotodotby': [0, 21, 1, 1590562813],\n",
       " '#шавловская@fotodotby\\n#портрет@fotodotby': [0, 13, 0, 1590483616],\n",
       " 'Мой инстаграм. Буду рад новым подписчикам)👍🏻😘😉\\nhttps://www.instagram.com/dmitry.medved/': [2,\n",
       "  35,\n",
       "  1,\n",
       "  1589536815],\n",
       " '#светлова@fotodotby\\n#дети@fotodotby': [0, 30, 1, 1590310820],\n",
       " 'Май': [0, 15, 0, 1590058808],\n",
       " '#задёрко@fotodotby\\n#животные@fotodotby': [0, 10, 0, 1590051620],\n",
       " '#наумовец@fotodotby\\n#дети@fotodotby': [0, 29, 1, 1589439996],\n",
       " 'Горы, горы, облака': [0, 10, 0, 1589968811],\n",
       " 'Три четверти': [4, 106, 0, 1589882413],\n",
       " 'Вечные странники': [0, 21, 0, 1589796010],\n",
       " 'Поля, погоды, настроение': [0, 30, 0, 1589709611],\n",
       " 'Ныряла в Солнце': [0, 29, 0, 1589623211],\n",
       " '#плеханов@fotodotby\\n#пейзаж@fotodotby': [0, 13, 1, 1589360418],\n",
       " '#шавловская@fotodotby\\n#дети@fotodotby': [0, 10, 0, 1589274016]}"
      ]
     },
     "execution_count": 41,
     "metadata": {},
     "output_type": "execute_result"
    }
   ],
   "source": [
    "stats"
   ]
  },
  {
   "cell_type": "code",
   "execution_count": 42,
   "metadata": {},
   "outputs": [
    {
     "name": "stdout",
     "output_type": "stream",
     "text": [
      "Три четверти [4, 106, 0, 1589882413]\n",
      "Мой инстаграм. Буду рад новым подписчикам)👍🏻😘😉\n",
      "https://www.instagram.com/dmitry.medved/ [2, 35, 1, 1589536815]\n",
      "Первый теплый вечер [1, 30, 0, 1591351210]\n",
      "#светлова@fotodotby\n",
      "#дети@fotodotby [0, 30, 1, 1590310820]\n",
      "#наумовец@fotodotby\n",
      "#дети@fotodotby [0, 29, 1, 1589439996]\n",
      "Поля, погоды, настроение [0, 30, 0, 1589709611]\n",
      "Ныряла в Солнце [0, 29, 0, 1589623211]\n",
      "#балабан@fotodotby\n",
      "#дети@fotodotby [0, 26, 2, 1591516900]\n",
      "Странное лето 2020 [0, 24, 1, 1591437610]\n",
      "Цветные сны [0, 23, 1, 1591005607]\n"
     ]
    }
   ],
   "source": [
    "# сортируем посты по сумме репостов, лайков и комментов\n",
    "for title, line in sorted(stats.items(), key = lambda x: -(x[1][0]+x[1][1]+x[1][2]))[:10]:\n",
    "    print(title, line)"
   ]
  },
  {
   "cell_type": "code",
   "execution_count": 43,
   "metadata": {},
   "outputs": [
    {
     "name": "stdout",
     "output_type": "stream",
     "text": [
      "#филиповец@fotodotby\n",
      "#пейзаж@fotodotby [1, 19, 0, 1590224416, '2020-05-23']\n",
      "#балабан@fotodotby\n",
      "#портрет@fotodotby [0, 15, 2, 1591952414, '2020-06-12']\n",
      "#задёрко@fotodotby\n",
      "#пейзаж@fotodotby [0, 22, 0, 1589792417, '2020-05-18']\n",
      "#шаповалов@fotodotby\n",
      "#макро@fotodotby [0, 5, 0, 1589187616, '2020-05-11']\n",
      " [0, 6, 0, 1589276815, '2020-05-12']\n",
      "#чимковский@fotodotby\n",
      "#пейзаж@fotodotby [0, 21, 1, 1591858813, '2020-06-11']\n",
      "#шатохин@fotodotby\n",
      "#пейзаж@fotodotby [0, 11, 0, 1591429753, '2020-06-06']\n",
      "#шабуневич@fotodotby\n",
      "#пейзаж@fotodotby [0, 3, 0, 1589353763, '2020-05-13']\n",
      "#макро@fotodotby\n",
      "#шаповалов@fotodotby [0, 9, 0, 1591693213, '2020-06-09']\n",
      "#балабан@fotodotby\n",
      "#дети@fotodotby [0, 26, 2, 1591516900, '2020-06-07']\n",
      "ph: [club176517576|камера криогена] [0, 15, 0, 1591619402, '2020-06-08']\n",
      "стек из 8 кадров [0, 4, 0, 1591615802, '2020-06-08']\n",
      "#задёрко@fotodotby\n",
      "#жанр@fotodotby [0, 14, 0, 1591081881, '2020-06-02']\n",
      "#селиванов@fotodotby\n",
      "#портрет@fotodotby [0, 12, 0, 1591599856, '2020-06-08']\n",
      "Странное лето 2020 [0, 24, 1, 1591437610, '2020-06-06']\n",
      "#дубровская@fotodotby\n",
      "#дети@fotodotby [0, 19, 0, 1591434014, '2020-06-06']\n",
      "Первый теплый вечер [1, 30, 0, 1591351210, '2020-06-05']\n",
      "#калпакчи@fotodotby\n",
      "#дети@fotodotby [1, 12, 0, 1591347615, '2020-06-05']\n",
      "#полуэктов@fotodotby\n",
      "#пейзаж@fotodotby [0, 12, 1, 1589526954, '2020-05-15']\n",
      "#душкевич@fotodotby\n",
      "#дети@fotodotby [0, 14, 0, 1590742813, '2020-05-29']\n",
      "#кузнецов@fotodotby\n",
      "#город@fotodotby [0, 8, 0, 1591174812, '2020-06-03']\n",
      "#фролов@fotodotby\n",
      "#пейзаж@fotodotby [0, 9, 0, 1591168076, '2020-06-03']\n",
      "Цветные сны [0, 23, 1, 1591005607, '2020-06-01']\n",
      "#горюкина@fotodotby\n",
      "#натюрморт@fotodotby [0, 11, 1, 1591002014, '2020-06-01']\n",
      "Холодный Май [1, 20, 0, 1590921002, '2020-05-31']\n",
      "#шахгусейнов@fotodotby\n",
      "#портрет@fotodotby [0, 17, 1, 1589181958, '2020-05-11']\n",
      "#шатохин@fotodotby\n",
      "#город@fotodotby [0, 12, 0, 1589706014, '2020-05-17']\n",
      "#кулик@fotodotby\n",
      "#дети@fotodotby [0, 13, 0, 1590737296, '2020-05-29']\n",
      "#полуэктов@fotodotby\n",
      "#животные@fotodotby [0, 12, 0, 1589101214, '2020-05-10']\n",
      "#дети@fotodotby\n",
      "#балабан@fotodotby [0, 21, 1, 1590562813, '2020-05-27']\n",
      "#шавловская@fotodotby\n",
      "#портрет@fotodotby [0, 13, 0, 1590483616, '2020-05-26']\n",
      "Мой инстаграм. Буду рад новым подписчикам)👍🏻😘😉\n",
      "https://www.instagram.com/dmitry.medved/ [2, 35, 1, 1589536815, '2020-05-15']\n",
      "#светлова@fotodotby\n",
      "#дети@fotodotby [0, 30, 1, 1590310820, '2020-05-24']\n",
      "Май [0, 15, 0, 1590058808, '2020-05-21']\n",
      "#задёрко@fotodotby\n",
      "#животные@fotodotby [0, 10, 0, 1590051620, '2020-05-21']\n",
      "#наумовец@fotodotby\n",
      "#дети@fotodotby [0, 29, 1, 1589439996, '2020-05-14']\n",
      "Горы, горы, облака [0, 10, 0, 1589968811, '2020-05-20']\n",
      "Три четверти [4, 106, 0, 1589882413, '2020-05-19']\n",
      "Вечные странники [0, 21, 0, 1589796010, '2020-05-18']\n",
      "Поля, погоды, настроение [0, 30, 0, 1589709611, '2020-05-17']\n",
      "Ныряла в Солнце [0, 29, 0, 1589623211, '2020-05-16']\n",
      "#плеханов@fotodotby\n",
      "#пейзаж@fotodotby [0, 13, 1, 1589360418, '2020-05-13']\n",
      "#шавловская@fotodotby\n",
      "#дети@fotodotby [0, 10, 0, 1589274016, '2020-05-12']\n"
     ]
    }
   ],
   "source": [
    "from datetime import datetime, timedelta\n",
    "for title, line in stats.items():\n",
    "    line.append(datetime.fromtimestamp(line[3]).strftime('%Y-%m-%d'))\n",
    "    print(title, line)"
   ]
  },
  {
   "cell_type": "code",
   "execution_count": 44,
   "metadata": {},
   "outputs": [
    {
     "name": "stdout",
     "output_type": "stream",
     "text": [
      "2020-06-13\n"
     ]
    }
   ],
   "source": [
    "yesterday = (datetime.now() - timedelta(days = 1)).strftime('%Y-%m-%d')\n",
    "print(yesterday)"
   ]
  }
 ],
 "metadata": {
  "kernelspec": {
   "display_name": "Python 3",
   "language": "python",
   "name": "python3"
  },
  "language_info": {
   "codemirror_mode": {
    "name": "ipython",
    "version": 3
   },
   "file_extension": ".py",
   "mimetype": "text/x-python",
   "name": "python",
   "nbconvert_exporter": "python",
   "pygments_lexer": "ipython3",
   "version": "3.7.6"
  }
 },
 "nbformat": 4,
 "nbformat_minor": 4
}
